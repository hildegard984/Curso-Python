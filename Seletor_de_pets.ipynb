{
  "nbformat": 4,
  "nbformat_minor": 0,
  "metadata": {
    "colab": {
      "provenance": [],
      "authorship_tag": "ABX9TyO1JOitPWiMT0+z+WDg5KtL",
      "include_colab_link": true
    },
    "kernelspec": {
      "name": "python3",
      "display_name": "Python 3"
    },
    "language_info": {
      "name": "python"
    }
  },
  "cells": [
    {
      "cell_type": "markdown",
      "metadata": {
        "id": "view-in-github",
        "colab_type": "text"
      },
      "source": [
        "<a href=\"https://colab.research.google.com/github/hildegard984/Curso-Python/blob/main/Seletor_de_pets.ipynb\" target=\"_parent\"><img src=\"https://colab.research.google.com/assets/colab-badge.svg\" alt=\"Open In Colab\"/></a>"
      ]
    },
    {
      "cell_type": "code",
      "execution_count": null,
      "metadata": {
        "colab": {
          "base_uri": "https://localhost:8080/"
        },
        "id": "KrevaW67cYZj",
        "outputId": "08ff8d43-f759-48d2-d7a2-7b202a85aaae"
      },
      "outputs": [
        {
          "output_type": "stream",
          "name": "stdout",
          "text": [
            "Selecione um pet\n",
            " 1-Gatos \n",
            " 2-Cachorros\n",
            " 3-Outro Pet\n",
            "3\n",
            "No momento só temos cães e gatos!\n",
            " ---------Aguarde novas atualizações!!!------------\n",
            "\n"
          ]
        }
      ],
      "source": [
        "# base https://cataas.com/#/\n",
        "# apiUsada https://cataas.com/api/cats?tags=cute\n",
        "# base https://dog.ceo/dog-api/documentation/\n",
        "# apiUsada https://dog.ceo/api/breeds/list/all\n",
        "import requests\n",
        "import json\n",
        "\n",
        "select_pet = 0\n",
        "\n",
        "while select_pet > 1 or select_pet <3:\n",
        "  select_pet = int(input(\"Selecione um pet\\n 1-Gatos \\n 2-Cachorros\\n 3-Outro Pet\\n\"))\n",
        "  if select_pet == 1:\n",
        "    cats_data_base = requests.get(\"https://cataas.com/api/cats?tags=cute\")\n",
        "    cats = json.loads(cats_data_base.text)\n",
        "    print(\"Características de gatos\\n\",cats[0]['tags'])\n",
        "\n",
        "  if select_pet ==2:\n",
        "    dogs_data_base = requests.get(\"https://dog.ceo/api/breeds/list/all\")\n",
        "    dogs = json.loads(dogs_data_base.text)\n",
        "    print(\"Raça dos Cachorros\\n\",dogs['message'])\n",
        "  \n",
        "  if select_pet ==3:\n",
        "    print(\"No momento só temos cães e gatos!\\n ---------Aguarde novas atualizações!!!------------\\n\")"
      ]
    }
  ]
}