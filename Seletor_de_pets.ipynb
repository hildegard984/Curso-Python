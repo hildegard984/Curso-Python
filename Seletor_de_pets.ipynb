{
  "nbformat": 4,
  "nbformat_minor": 0,
  "metadata": {
    "colab": {
      "provenance": [],
      "authorship_tag": "ABX9TyPahF2PytnYqc7y3Yy2tOy+",
      "include_colab_link": true
    },
    "kernelspec": {
      "name": "python3",
      "display_name": "Python 3"
    },
    "language_info": {
      "name": "python"
    }
  },
  "cells": [
    {
      "cell_type": "markdown",
      "metadata": {
        "id": "view-in-github",
        "colab_type": "text"
      },
      "source": [
        "<a href=\"https://colab.research.google.com/github/hildegard984/Curso-Python/blob/main/Seletor_de_pets.ipynb\" target=\"_parent\"><img src=\"https://colab.research.google.com/assets/colab-badge.svg\" alt=\"Open In Colab\"/></a>"
      ]
    },
    {
      "cell_type": "code",
      "execution_count": null,
      "metadata": {
        "colab": {
          "base_uri": "https://localhost:8080/"
        },
        "id": "KrevaW67cYZj",
        "outputId": "ed198190-088b-490d-8134-cb9f9ed7b5dd"
      },
      "outputs": [
        {
          "output_type": "stream",
          "name": "stdout",
          "text": [
            "Selecione um pet\n",
            " 1-Gatos \n",
            " 2-Cachorros\n",
            "1\n",
            "Características de gatos\n",
            " ['small cat', 'brazilian', 'brazilian cat', 'brasileira', 'female cat', 'female', 'black & white', 'donna', 'londrinense', 'londrina', 'cute cat', 'cute']\n",
            "Selecione um pet\n",
            " 1-Gatos \n",
            " 2-Cachorros\n",
            "2\n",
            "Raça dos Cachorros\n",
            " {'affenpinscher': [], 'african': [], 'airedale': [], 'akita': [], 'appenzeller': [], 'australian': ['shepherd'], 'basenji': [], 'beagle': [], 'bluetick': [], 'borzoi': [], 'bouvier': [], 'boxer': [], 'brabancon': [], 'briard': [], 'buhund': ['norwegian'], 'bulldog': ['boston', 'english', 'french'], 'bullterrier': ['staffordshire'], 'cattledog': ['australian'], 'chihuahua': [], 'chow': [], 'clumber': [], 'cockapoo': [], 'collie': ['border'], 'coonhound': [], 'corgi': ['cardigan'], 'cotondetulear': [], 'dachshund': [], 'dalmatian': [], 'dane': ['great'], 'deerhound': ['scottish'], 'dhole': [], 'dingo': [], 'doberman': [], 'elkhound': ['norwegian'], 'entlebucher': [], 'eskimo': [], 'finnish': ['lapphund'], 'frise': ['bichon'], 'germanshepherd': [], 'greyhound': ['italian'], 'groenendael': [], 'havanese': [], 'hound': ['afghan', 'basset', 'blood', 'english', 'ibizan', 'plott', 'walker'], 'husky': [], 'keeshond': [], 'kelpie': [], 'komondor': [], 'kuvasz': [], 'labradoodle': [], 'labrador': [], 'leonberg': [], 'lhasa': [], 'malamute': [], 'malinois': [], 'maltese': [], 'mastiff': ['bull', 'english', 'tibetan'], 'mexicanhairless': [], 'mix': [], 'mountain': ['bernese', 'swiss'], 'newfoundland': [], 'otterhound': [], 'ovcharka': ['caucasian'], 'papillon': [], 'pekinese': [], 'pembroke': [], 'pinscher': ['miniature'], 'pitbull': [], 'pointer': ['german', 'germanlonghair'], 'pomeranian': [], 'poodle': ['medium', 'miniature', 'standard', 'toy'], 'pug': [], 'puggle': [], 'pyrenees': [], 'redbone': [], 'retriever': ['chesapeake', 'curly', 'flatcoated', 'golden'], 'ridgeback': ['rhodesian'], 'rottweiler': [], 'saluki': [], 'samoyed': [], 'schipperke': [], 'schnauzer': ['giant', 'miniature'], 'segugio': ['italian'], 'setter': ['english', 'gordon', 'irish'], 'sharpei': [], 'sheepdog': ['english', 'shetland'], 'shiba': [], 'shihtzu': [], 'spaniel': ['blenheim', 'brittany', 'cocker', 'irish', 'japanese', 'sussex', 'welsh'], 'spitz': ['japanese'], 'springer': ['english'], 'stbernard': [], 'terrier': ['american', 'australian', 'bedlington', 'border', 'cairn', 'dandie', 'fox', 'irish', 'kerryblue', 'lakeland', 'norfolk', 'norwich', 'patterdale', 'russell', 'scottish', 'sealyham', 'silky', 'tibetan', 'toy', 'welsh', 'westhighland', 'wheaten', 'yorkshire'], 'tervuren': [], 'vizsla': [], 'waterdog': ['spanish'], 'weimaraner': [], 'whippet': [], 'wolfhound': ['irish']}\n"
          ]
        }
      ],
      "source": [
        "# base https://cataas.com/#/\n",
        "# apiUsada https://cataas.com/api/cats?tags=cute\n",
        "# base https://dog.ceo/dog-api/documentation/\n",
        "# apiUsada https://dog.ceo/api/breeds/list/all\n",
        "import requests\n",
        "import json\n",
        "\n",
        "select_pet = 0\n",
        "\n",
        "while select_pet > 1 or select_pet <2:\n",
        "  select_pet = int(input(\"Selecione um pet\\n 1-Gatos \\n 2-Cachorros\\n\"))\n",
        "  if select_pet == 1:\n",
        "    cats_data_base = requests.get(\"https://cataas.com/api/cats?tags=cute\")\n",
        "    cats = json.loads(cats_data_base.text)\n",
        "    print(\"Características de gatos\\n\",cats[0]['tags'])\n",
        "\n",
        "  if select_pet ==2:\n",
        "    dogs_data_base = requests.get(\"https://dog.ceo/api/breeds/list/all\")\n",
        "    dogs = json.loads(dogs_data_base.text)\n",
        "    print(\"Raça dos Cachorros\\n\",dogs['message'])"
      ]
    }
  ]
}