{
  "nbformat": 4,
  "nbformat_minor": 0,
  "metadata": {
    "colab": {
      "provenance": [],
      "authorship_tag": "ABX9TyMvItjeAOOPU55sMc7OdL1W",
      "include_colab_link": true
    },
    "kernelspec": {
      "name": "python3",
      "display_name": "Python 3"
    },
    "language_info": {
      "name": "python"
    }
  },
  "cells": [
    {
      "cell_type": "markdown",
      "metadata": {
        "id": "view-in-github",
        "colab_type": "text"
      },
      "source": [
        "<a href=\"https://colab.research.google.com/github/hildegard984/Curso-Python/blob/main/Exercicios_dia_05.ipynb\" target=\"_parent\"><img src=\"https://colab.research.google.com/assets/colab-badge.svg\" alt=\"Open In Colab\"/></a>"
      ]
    },
    {
      "cell_type": "code",
      "execution_count": 29,
      "metadata": {
        "id": "-i_nNSlacF5v"
      },
      "outputs": [],
      "source": [
        "#https://www.imdb.com/search/title/?genres=sci-fi&explore=title_type,genres&pf_rd_m=A2FGELUUNOQJNL&pf_rd_p=3396781f-d87f-4fac-8694-c56ce6f490fe&pf_rd_r=5985GH0DWGSJVAS8EFDK&pf_rd_s=center-1&pf_rd_t=15051&pf_rd_i=genre&ref_=ft_gnr_pr1_i_2\n",
        "#WebscrappingIMDB\n",
        "from requests import get \n",
        "import numpy as np\n",
        "from bs4 import BeautifulSoup\n",
        "from time import sleep\n",
        "from random import randint\n",
        "from warnings import  warn\n",
        "import pandas as pd\n",
        "\n",
        "pages = np.arange(1,200,50)#np.arange(pagina inicial, paginal final, incremento de dados pela pagina no caso 50 por pagina)\n",
        "headers = {'Accept-Language': 'pt-BR,pt;q=0.8'}\n",
        "titles = []\n",
        "years = []\n",
        "genres = []\n",
        "runtimes = []\n",
        "imdb_ratings = []\n",
        "votes = []\n",
        "ratings = []\n",
        "\n",
        "for page in pages:\n",
        "  response = get(\"https://www.imdb.com/search/title?genres=sci-fi&\" + \"start=\" + str(page) + \"&explore=title_type,genres&ref_=adv_prv\", headers=headers)\n",
        "  sleep(randint(5,10))\n",
        "\n",
        "  if response.status_code !=200:\n",
        "    warn('O pedido: {}; retornou o codigo: {}'.format(response.status_code))\n",
        "\n",
        "  page_html = BeautifulSoup(response.text,'html.parser')#função html parser é uma função do beautifulSoup\n",
        "  movie_containers = page_html.find_all('div', class_ = 'lister-item mode-advanced')\n",
        "  for container in movie_containers:\n",
        "    if container.find('div', class_ = 'ratings-metascore') is not None:\n",
        "      #captura do título\n",
        "      title = container.h3.a.text\n",
        "      titles.append(title)\n",
        "\n",
        "      #captura do ano\n",
        "      if container.h3.find('span', class_ = 'lister-item-year text-muted unbold')is not None:\n",
        "        year = container.h3.find('span', class_ = 'lister-item-year text-muted unbold').text\n",
        "        years.append(year)\n",
        "      else:\n",
        "        years.append(None)\n",
        "      \n",
        "      #captura as avaliações\n",
        "      if container.p.find('span', class_ = 'certificate') is not None:\n",
        "        rating = container.p.find('span', class_ = 'certificate').text\n",
        "        ratings.append(rating)\n",
        "      else:\n",
        "        ratings.append(\"\")\n",
        "      \n",
        "      #captura os generos\n",
        "      if container.p.find('span', class_ = 'genre') is not None:\n",
        "        genre = container.p.find('span', class_ = 'genre').text.replace(\"\\n\",\"\").rstrip().split(',')#text.replace faz substituição rstrip organiza split separa por algo no caso separa por ','\n",
        "        genres.append(genre)\n",
        "      else:\n",
        "        genres.append(\"\")\n",
        "\n",
        "      # captura a duração do filme\n",
        "      if container.p.find('span', class_ = \"runtime\") is not None:\n",
        "        time = int(container.p.find('span', class_ = \"runtime\").text.replace(\" min\",\"\"))\n",
        "        runtimes.append(time)\n",
        "      else:\n",
        "        runtimes.append(None)\n",
        "      \n",
        "      #captura a avaliação do IMdb\n",
        "      if  container.strong.text is not None:\n",
        "        imdb = float(container.strong.text.replace(\",\",\".\"))\n",
        "        imdb_ratings.append(imdb)\n",
        "      else:\n",
        "        imdb_ratings.append(None)\n",
        "      \n",
        "      #captura o voto dos usuários\n",
        "      if container.find('span',attrs = {'name':'nv'})['data-value'] is not None:#dessa vez procuramos por atributos do codigo html não por classe\n",
        "        vote = int(container.find('span',attrs = {'name':'nv'})['data-value'])\n",
        "        votes.append(vote);\n",
        "      else:\n",
        "        votes.append(None)\n"
      ]
    },
    {
      "cell_type": "code",
      "source": [
        "sci_fi_df = pd.DataFrame(\n",
        "    {\n",
        "        'Filme':titles,\n",
        "        'Ano':years,\n",
        "        'Genero':genres,\n",
        "        'Tempo':runtimes,\n",
        "        'Imdb':imdb_ratings,\n",
        "        'Votos':votes,\n",
        "        'Nota Usuario':ratings,\n",
        "\n",
        "    }\n",
        ")\n",
        "sci_fi_df"
      ],
      "metadata": {
        "colab": {
          "base_uri": "https://localhost:8080/",
          "height": 424
        },
        "id": "IMpv-XgdIJ8M",
        "outputId": "106e910b-fd67-4f61-b831-fd942bfdabee"
      },
      "execution_count": 30,
      "outputs": [
        {
          "output_type": "execute_result",
          "data": {
            "text/plain": [
              "                                   Filme         Ano  \\\n",
              "0   Homem-Formiga e a Vespa: Quantumania      (2023)   \n",
              "1      Tudo em Todo Lugar ao Mesmo Tempo      (2022)   \n",
              "2                                  M3gan      (2022)   \n",
              "3              Avatar: O Caminho da Água      (2022)   \n",
              "4     Pantera Negra: Wakanda para Sempre      (2022)   \n",
              "..                                   ...         ...   \n",
              "90                        O Homem de Aço      (2013)   \n",
              "91                            Prometheus  (I) (2012)   \n",
              "92           Minority Report: A Nova Lei      (2002)   \n",
              "93                     Watchmen: O Filme      (2009)   \n",
              "94                      Perdido em Marte      (2015)   \n",
              "\n",
              "                            Genero  Tempo  Imdb   Votos Nota Usuario  \n",
              "0    [Action,  Adventure,  Comedy]    124   6.5   78912           12  \n",
              "1    [Action,  Adventure,  Comedy]    139   8.0  347768           14  \n",
              "2     [Horror,  Sci-Fi,  Thriller]    102   6.4   76724           14  \n",
              "3   [Action,  Adventure,  Fantasy]    192   7.8  311259           14  \n",
              "4     [Action,  Adventure,  Drama]    161   6.8  233489           12  \n",
              "..                             ...    ...   ...     ...          ...  \n",
              "90   [Action,  Adventure,  Sci-Fi]    143   7.1  779661           12  \n",
              "91  [Adventure,  Mystery,  Sci-Fi]    124   7.0  616845           16  \n",
              "92      [Action,  Crime,  Mystery]    145   7.6  560179           14  \n",
              "93      [Action,  Drama,  Mystery]    162   7.6  558485           18  \n",
              "94    [Adventure,  Drama,  Sci-Fi]    144   8.0  867944           12  \n",
              "\n",
              "[95 rows x 7 columns]"
            ],
            "text/html": [
              "\n",
              "  <div id=\"df-b2f14425-4392-47a6-88dd-32d9fe579cc8\">\n",
              "    <div class=\"colab-df-container\">\n",
              "      <div>\n",
              "<style scoped>\n",
              "    .dataframe tbody tr th:only-of-type {\n",
              "        vertical-align: middle;\n",
              "    }\n",
              "\n",
              "    .dataframe tbody tr th {\n",
              "        vertical-align: top;\n",
              "    }\n",
              "\n",
              "    .dataframe thead th {\n",
              "        text-align: right;\n",
              "    }\n",
              "</style>\n",
              "<table border=\"1\" class=\"dataframe\">\n",
              "  <thead>\n",
              "    <tr style=\"text-align: right;\">\n",
              "      <th></th>\n",
              "      <th>Filme</th>\n",
              "      <th>Ano</th>\n",
              "      <th>Genero</th>\n",
              "      <th>Tempo</th>\n",
              "      <th>Imdb</th>\n",
              "      <th>Votos</th>\n",
              "      <th>Nota Usuario</th>\n",
              "    </tr>\n",
              "  </thead>\n",
              "  <tbody>\n",
              "    <tr>\n",
              "      <th>0</th>\n",
              "      <td>Homem-Formiga e a Vespa: Quantumania</td>\n",
              "      <td>(2023)</td>\n",
              "      <td>[Action,  Adventure,  Comedy]</td>\n",
              "      <td>124</td>\n",
              "      <td>6.5</td>\n",
              "      <td>78912</td>\n",
              "      <td>12</td>\n",
              "    </tr>\n",
              "    <tr>\n",
              "      <th>1</th>\n",
              "      <td>Tudo em Todo Lugar ao Mesmo Tempo</td>\n",
              "      <td>(2022)</td>\n",
              "      <td>[Action,  Adventure,  Comedy]</td>\n",
              "      <td>139</td>\n",
              "      <td>8.0</td>\n",
              "      <td>347768</td>\n",
              "      <td>14</td>\n",
              "    </tr>\n",
              "    <tr>\n",
              "      <th>2</th>\n",
              "      <td>M3gan</td>\n",
              "      <td>(2022)</td>\n",
              "      <td>[Horror,  Sci-Fi,  Thriller]</td>\n",
              "      <td>102</td>\n",
              "      <td>6.4</td>\n",
              "      <td>76724</td>\n",
              "      <td>14</td>\n",
              "    </tr>\n",
              "    <tr>\n",
              "      <th>3</th>\n",
              "      <td>Avatar: O Caminho da Água</td>\n",
              "      <td>(2022)</td>\n",
              "      <td>[Action,  Adventure,  Fantasy]</td>\n",
              "      <td>192</td>\n",
              "      <td>7.8</td>\n",
              "      <td>311259</td>\n",
              "      <td>14</td>\n",
              "    </tr>\n",
              "    <tr>\n",
              "      <th>4</th>\n",
              "      <td>Pantera Negra: Wakanda para Sempre</td>\n",
              "      <td>(2022)</td>\n",
              "      <td>[Action,  Adventure,  Drama]</td>\n",
              "      <td>161</td>\n",
              "      <td>6.8</td>\n",
              "      <td>233489</td>\n",
              "      <td>12</td>\n",
              "    </tr>\n",
              "    <tr>\n",
              "      <th>...</th>\n",
              "      <td>...</td>\n",
              "      <td>...</td>\n",
              "      <td>...</td>\n",
              "      <td>...</td>\n",
              "      <td>...</td>\n",
              "      <td>...</td>\n",
              "      <td>...</td>\n",
              "    </tr>\n",
              "    <tr>\n",
              "      <th>90</th>\n",
              "      <td>O Homem de Aço</td>\n",
              "      <td>(2013)</td>\n",
              "      <td>[Action,  Adventure,  Sci-Fi]</td>\n",
              "      <td>143</td>\n",
              "      <td>7.1</td>\n",
              "      <td>779661</td>\n",
              "      <td>12</td>\n",
              "    </tr>\n",
              "    <tr>\n",
              "      <th>91</th>\n",
              "      <td>Prometheus</td>\n",
              "      <td>(I) (2012)</td>\n",
              "      <td>[Adventure,  Mystery,  Sci-Fi]</td>\n",
              "      <td>124</td>\n",
              "      <td>7.0</td>\n",
              "      <td>616845</td>\n",
              "      <td>16</td>\n",
              "    </tr>\n",
              "    <tr>\n",
              "      <th>92</th>\n",
              "      <td>Minority Report: A Nova Lei</td>\n",
              "      <td>(2002)</td>\n",
              "      <td>[Action,  Crime,  Mystery]</td>\n",
              "      <td>145</td>\n",
              "      <td>7.6</td>\n",
              "      <td>560179</td>\n",
              "      <td>14</td>\n",
              "    </tr>\n",
              "    <tr>\n",
              "      <th>93</th>\n",
              "      <td>Watchmen: O Filme</td>\n",
              "      <td>(2009)</td>\n",
              "      <td>[Action,  Drama,  Mystery]</td>\n",
              "      <td>162</td>\n",
              "      <td>7.6</td>\n",
              "      <td>558485</td>\n",
              "      <td>18</td>\n",
              "    </tr>\n",
              "    <tr>\n",
              "      <th>94</th>\n",
              "      <td>Perdido em Marte</td>\n",
              "      <td>(2015)</td>\n",
              "      <td>[Adventure,  Drama,  Sci-Fi]</td>\n",
              "      <td>144</td>\n",
              "      <td>8.0</td>\n",
              "      <td>867944</td>\n",
              "      <td>12</td>\n",
              "    </tr>\n",
              "  </tbody>\n",
              "</table>\n",
              "<p>95 rows × 7 columns</p>\n",
              "</div>\n",
              "      <button class=\"colab-df-convert\" onclick=\"convertToInteractive('df-b2f14425-4392-47a6-88dd-32d9fe579cc8')\"\n",
              "              title=\"Convert this dataframe to an interactive table.\"\n",
              "              style=\"display:none;\">\n",
              "        \n",
              "  <svg xmlns=\"http://www.w3.org/2000/svg\" height=\"24px\"viewBox=\"0 0 24 24\"\n",
              "       width=\"24px\">\n",
              "    <path d=\"M0 0h24v24H0V0z\" fill=\"none\"/>\n",
              "    <path d=\"M18.56 5.44l.94 2.06.94-2.06 2.06-.94-2.06-.94-.94-2.06-.94 2.06-2.06.94zm-11 1L8.5 8.5l.94-2.06 2.06-.94-2.06-.94L8.5 2.5l-.94 2.06-2.06.94zm10 10l.94 2.06.94-2.06 2.06-.94-2.06-.94-.94-2.06-.94 2.06-2.06.94z\"/><path d=\"M17.41 7.96l-1.37-1.37c-.4-.4-.92-.59-1.43-.59-.52 0-1.04.2-1.43.59L10.3 9.45l-7.72 7.72c-.78.78-.78 2.05 0 2.83L4 21.41c.39.39.9.59 1.41.59.51 0 1.02-.2 1.41-.59l7.78-7.78 2.81-2.81c.8-.78.8-2.07 0-2.86zM5.41 20L4 18.59l7.72-7.72 1.47 1.35L5.41 20z\"/>\n",
              "  </svg>\n",
              "      </button>\n",
              "      \n",
              "  <style>\n",
              "    .colab-df-container {\n",
              "      display:flex;\n",
              "      flex-wrap:wrap;\n",
              "      gap: 12px;\n",
              "    }\n",
              "\n",
              "    .colab-df-convert {\n",
              "      background-color: #E8F0FE;\n",
              "      border: none;\n",
              "      border-radius: 50%;\n",
              "      cursor: pointer;\n",
              "      display: none;\n",
              "      fill: #1967D2;\n",
              "      height: 32px;\n",
              "      padding: 0 0 0 0;\n",
              "      width: 32px;\n",
              "    }\n",
              "\n",
              "    .colab-df-convert:hover {\n",
              "      background-color: #E2EBFA;\n",
              "      box-shadow: 0px 1px 2px rgba(60, 64, 67, 0.3), 0px 1px 3px 1px rgba(60, 64, 67, 0.15);\n",
              "      fill: #174EA6;\n",
              "    }\n",
              "\n",
              "    [theme=dark] .colab-df-convert {\n",
              "      background-color: #3B4455;\n",
              "      fill: #D2E3FC;\n",
              "    }\n",
              "\n",
              "    [theme=dark] .colab-df-convert:hover {\n",
              "      background-color: #434B5C;\n",
              "      box-shadow: 0px 1px 3px 1px rgba(0, 0, 0, 0.15);\n",
              "      filter: drop-shadow(0px 1px 2px rgba(0, 0, 0, 0.3));\n",
              "      fill: #FFFFFF;\n",
              "    }\n",
              "  </style>\n",
              "\n",
              "      <script>\n",
              "        const buttonEl =\n",
              "          document.querySelector('#df-b2f14425-4392-47a6-88dd-32d9fe579cc8 button.colab-df-convert');\n",
              "        buttonEl.style.display =\n",
              "          google.colab.kernel.accessAllowed ? 'block' : 'none';\n",
              "\n",
              "        async function convertToInteractive(key) {\n",
              "          const element = document.querySelector('#df-b2f14425-4392-47a6-88dd-32d9fe579cc8');\n",
              "          const dataTable =\n",
              "            await google.colab.kernel.invokeFunction('convertToInteractive',\n",
              "                                                     [key], {});\n",
              "          if (!dataTable) return;\n",
              "\n",
              "          const docLinkHtml = 'Like what you see? Visit the ' +\n",
              "            '<a target=\"_blank\" href=https://colab.research.google.com/notebooks/data_table.ipynb>data table notebook</a>'\n",
              "            + ' to learn more about interactive tables.';\n",
              "          element.innerHTML = '';\n",
              "          dataTable['output_type'] = 'display_data';\n",
              "          await google.colab.output.renderOutput(dataTable, element);\n",
              "          const docLink = document.createElement('div');\n",
              "          docLink.innerHTML = docLinkHtml;\n",
              "          element.appendChild(docLink);\n",
              "        }\n",
              "      </script>\n",
              "    </div>\n",
              "  </div>\n",
              "  "
            ]
          },
          "metadata": {},
          "execution_count": 30
        }
      ]
    },
    {
      "cell_type": "code",
      "source": [
        "import seaborn as sns\n",
        "import matplotlib.pyplot as plt\n",
        "\n",
        "plt.scatter(sci_fi_df[\"Tempo\"],sci_fi_df[\"Imdb\"])\n",
        "plt.xlabel(\"Duração (min)\")\n",
        "plt.ylabel(\"Nota IMDB\")\n",
        "plt.show()"
      ],
      "metadata": {
        "colab": {
          "base_uri": "https://localhost:8080/",
          "height": 283
        },
        "id": "f40as2MqMhwV",
        "outputId": "417e9bae-5181-4d66-9b43-dae4d9034be8"
      },
      "execution_count": 31,
      "outputs": [
        {
          "output_type": "display_data",
          "data": {
            "text/plain": [
              "<Figure size 432x288 with 1 Axes>"
            ],
            "image/png": "[encoded data removed]"
          },
          "metadata": {
            "needs_background": "light"
          }
        }
      ]
    },
    {
      "cell_type": "code",
      "source": [
        "sns.heatmap(sci_fi_df.corr(), annot=True)"
      ],
      "metadata": {
        "colab": {
          "base_uri": "https://localhost:8080/",
          "height": 286
        },
        "id": "dx4q4hMY4Roe",
        "outputId": "0601f58f-80d6-4eba-8cb8-3b77eeeaad2b"
      },
      "execution_count": 32,
      "outputs": [
        {
          "output_type": "execute_result",
          "data": {
            "text/plain": [
              "<AxesSubplot:>"
            ]
          },
          "metadata": {},
          "execution_count": 32
        },
        {
          "output_type": "display_data",
          "data": {
            "text/plain": [
              "<Figure size 432x288 with 2 Axes>"
            ],
            "image/png": "[encoded data removed]"
          },
          "metadata": {
            "needs_background": "light"
          }
        }
      ]
    },
    {
      "cell_type": "code",
      "source": [
        "ax = sci_fi_df[\"Imdb\"].value_counts().plot(kind='bar',figsize=(14,8), title = \"Qtd de filmes/Votos\")\n",
        "ax.set_xlabel(\"Votos\")\n",
        "ax.set_ylabel(\"Qtd Filmes\")\n",
        "ax.plot()"
      ],
      "metadata": {
        "colab": {
          "base_uri": "https://localhost:8080/",
          "height": 536
        },
        "id": "fA5g3rec4yHX",
        "outputId": "6b20754f-4d9f-4b6d-bf54-cf69fd4d8f60"
      },
      "execution_count": 33,
      "outputs": [
        {
          "output_type": "execute_result",
          "data": {
            "text/plain": [
              "[]"
            ]
          },
          "metadata": {},
          "execution_count": 33
        },
        {
          "output_type": "display_data",
          "data": {
            "text/plain": [
              "<Figure size 1008x576 with 1 Axes>"
            ],
            "image/png": "[encoded data removed]"
          },
          "metadata": {
            "needs_background": "light"
          }
        }
      ]
    },
    {
      "cell_type": "code",
      "source": [
        "#separar os generos em linha\n",
        "sci_fi_df_generos = sci_fi_df.explode(\"Genero\")\n",
        "\n",
        "#contar quantos generos tem\n",
        "genero_counts = sci_fi_df_generos[\"Genero\"].value_counts()\n",
        "\n",
        "#construir o grafico de barras\n",
        "genero_counts.plot(kind=\"bar\")\n",
        "plt.show()"
      ],
      "metadata": {
        "colab": {
          "base_uri": "https://localhost:8080/",
          "height": 310
        },
        "id": "bP8zYyFL7oc2",
        "outputId": "1a88aa4c-1bd6-4ff7-b978-4193ce61e246"
      },
      "execution_count": 34,
      "outputs": [
        {
          "output_type": "display_data",
          "data": {
            "text/plain": [
              "<Figure size 432x288 with 1 Axes>"
            ],
            "image/png": "[encoded data removed]"
          },
          "metadata": {
            "needs_background": "light"
          }
        }
      ]
    }
  ]
}