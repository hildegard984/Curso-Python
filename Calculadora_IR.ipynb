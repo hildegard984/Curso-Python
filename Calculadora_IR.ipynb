{
  "nbformat": 4,
  "nbformat_minor": 0,
  "metadata": {
    "colab": {
      "provenance": [],
      "authorship_tag": "ABX9TyPN6s6j1amCBY61G3kbVJPd",
      "include_colab_link": true
    },
    "kernelspec": {
      "name": "python3",
      "display_name": "Python 3"
    },
    "language_info": {
      "name": "python"
    }
  },
  "cells": [
    {
      "cell_type": "markdown",
      "metadata": {
        "id": "view-in-github",
        "colab_type": "text"
      },
      "source": [
        "<a href=\"https://colab.research.google.com/github/hildegard984/devapps/blob/main/Calculadora_IR.ipynb\" target=\"_parent\"><img src=\"https://colab.research.google.com/assets/colab-badge.svg\" alt=\"Open In Colab\"/></a>"
      ]
    },
    {
      "cell_type": "code",
      "source": [
        "imposto = 0\n",
        "def calcular(salario):\n",
        "  tabela_ir = [\n",
        "      {\"faixa\": (0,1903.98), \"aliquota\": 0,\"dedução\": 0},\n",
        "      {\"faixa\": (1903.99,2826.65), \"aliquota\": 7.5,\"dedução\": 142.80},\n",
        "      {\"faixa\": (2826.66,3751.05), \"aliquota\": 15,\"dedução\": 354.80},\n",
        "      {\"faixa\": (3751.06, 4664.68), \"aliquota\": 22.5,\"dedução\": 636.13},\n",
        "      {\"faixa\": (4664.69, float(\"inf\")), \"aliquota\": 27.5, \"dedução\": 869.36}\n",
        "  ]\n",
        "  for faixa in tabela_ir:\n",
        "    if salario > faixa [\"faixa\"][0] and salario <= faixa[\"faixa\"][1]:\n",
        "      imposto = (salario * faixa[\"aliquota\"])/100 - faixa[\"dedução\"]\n",
        "      break;\n",
        "  return imposto\n",
        "salario_bruto = float(input(\"Informe o seu salario bruto:\"))#insere o salário bruto\n",
        "imposto = calcular(salario_bruto)\n",
        "print(f\"O imposto de renda devido é de R${imposto:.2f}\")"
      ],
      "metadata": {
        "colab": {
          "base_uri": "https://localhost:8080/"
        },
        "id": "SnQ1pS_aXle7",
        "outputId": "d1491c77-7de9-44dd-d0af-8020cf17cd97"
      },
      "execution_count": 15,
      "outputs": [
        {
          "output_type": "stream",
          "name": "stdout",
          "text": [
            "Informe o seu salario bruto:5806\n",
            "O imposto de renda devido é de R$727.29\n"
          ]
        }
      ]
    }
  ]
}