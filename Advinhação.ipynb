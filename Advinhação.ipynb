{
  "nbformat": 4,
  "nbformat_minor": 0,
  "metadata": {
    "colab": {
      "provenance": [],
      "authorship_tag": "ABX9TyPkqpOQbAWpttPw6xfL90qQ",
      "include_colab_link": true
    },
    "kernelspec": {
      "name": "python3",
      "display_name": "Python 3"
    },
    "language_info": {
      "name": "python"
    }
  },
  "cells": [
    {
      "cell_type": "markdown",
      "metadata": {
        "id": "view-in-github",
        "colab_type": "text"
      },
      "source": [
        "<a href=\"https://colab.research.google.com/github/hildegard984/devapps/blob/main/Advinha%C3%A7%C3%A3o.ipynb\" target=\"_parent\"><img src=\"https://colab.research.google.com/assets/colab-badge.svg\" alt=\"Open In Colab\"/></a>"
      ]
    },
    {
      "cell_type": "code",
      "execution_count": null,
      "metadata": {
        "id": "wp_z-qfiQZ-8"
      },
      "outputs": [],
      "source": [
        "#adivinhação\n",
        "from random import randint\n",
        "\n",
        "print(\"--------- Iniciando o Super Game -----------\")\n",
        "\n",
        "tesouro = randint(0,100)\n",
        "chute = 0\n",
        "chances = 10\n",
        "\n",
        "while chute !=tesouro:\n",
        "  chute = input(\"Qual o número que você acha que é?\")\n",
        "  if chute.isnumeric():#pergunta se o elemento é numerico\n",
        "    chute = int(chute)\n",
        "    chances = chances - 1\n",
        "    if chute == tesouro:\n",
        "      print('')\n",
        "      print('Parabéns! Você acertou')\n",
        "      print('O numero era {} e você ainda tinha {} chances'.format(tesouro, chances))\n",
        "      print('')\n",
        "      break;\n",
        "    else:\n",
        "      print('')\n",
        "      if chute > tesouro:\n",
        "         print(\"Você errou! Dica: É um numero menor!\")\n",
        "      else:\n",
        "         print(\"Você errou! Dica: É um numero maior!\")\n",
        "      print('Você ainda possui {} chances'.format(chances))#o cormando format joga a informação dentro das chaves\n",
        "    if chances == 0:\n",
        "      print('')\n",
        "      print(f'Suas chances acabaram. O numero era: {tesouro}. Você perdeu')\n",
        "      print('')\n",
        "      break;\n",
        "print(\"--------Game Over---------\")\n",
        "\n"
      ]
    }
  ]
}