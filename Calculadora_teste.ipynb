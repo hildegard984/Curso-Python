{
  "nbformat": 4,
  "nbformat_minor": 0,
  "metadata": {
    "colab": {
      "provenance": [],
      "authorship_tag": "ABX9TyPxX4QEKcgEJWTADGlUjLxu",
      "include_colab_link": true
    },
    "kernelspec": {
      "name": "python3",
      "display_name": "Python 3"
    },
    "language_info": {
      "name": "python"
    }
  },
  "cells": [
    {
      "cell_type": "markdown",
      "metadata": {
        "id": "view-in-github",
        "colab_type": "text"
      },
      "source": [
        "<a href=\"https://colab.research.google.com/github/hildegard984/Curso-Python/blob/main/Calculadora_teste.ipynb\" target=\"_parent\"><img src=\"https://colab.research.google.com/assets/colab-badge.svg\" alt=\"Open In Colab\"/></a>"
      ]
    },
    {
      "cell_type": "code",
      "execution_count": 52,
      "metadata": {
        "colab": {
          "base_uri": "https://localhost:8080/",
          "height": 918
        },
        "id": "EOM2f-fdf3CI",
        "outputId": "c881cb6f-b36c-4857-cb0e-4aca136095f0"
      },
      "outputs": [
        {
          "output_type": "stream",
          "name": "stdout",
          "text": [
            "Insira o primeiro Valor: 2\n",
            "Insira o primeiro Valor: 1\n",
            "\n",
            "    [1] Soma\n",
            "    [2] Dividir\n",
            "    [3] Multiplicar\n",
            "    [4] Subtrair\n",
            "    [5] Potencia\n",
            "    [6] Raiz quadrada\n",
            "    \n",
            "Qual operação deseja: 6\n",
            "\n",
            "A raiz quadrada de 2 é 1.4142135623730951\n",
            "\n",
            "Você desseja fazer novo cálculo? \n",
            "Sim ou Não \n",
            "sim\n",
            "Insira o primeiro Valor: 4\n",
            "Insira o primeiro Valor: 0\n",
            "\n",
            "    [1] Soma\n",
            "    [2] Dividir\n",
            "    [3] Multiplicar\n",
            "    [4] Subtrair\n",
            "    [5] Potencia\n",
            "    [6] Raiz quadrada\n",
            "    \n",
            "Qual operação deseja: 6\n",
            "\n",
            "A raiz quadrada de 4 é 2.0\n",
            "\n"
          ]
        },
        {
          "output_type": "error",
          "ename": "KeyboardInterrupt",
          "evalue": "ignored",
          "traceback": [
            "\u001b[0;31m---------------------------------------------------------------------------\u001b[0m",
            "\u001b[0;31mKeyboardInterrupt\u001b[0m                         Traceback (most recent call last)",
            "\u001b[0;32m<ipython-input-52-bf9e99aed668>\u001b[0m in \u001b[0;36m<module>\u001b[0;34m\u001b[0m\n\u001b[1;32m     50\u001b[0m       \u001b[0mprint\u001b[0m\u001b[0;34m(\u001b[0m\u001b[0;34mf'\\nA raiz quadrada de {valor01} é {raiz}\\n'\u001b[0m\u001b[0;34m)\u001b[0m\u001b[0;34m\u001b[0m\u001b[0;34m\u001b[0m\u001b[0m\n\u001b[1;32m     51\u001b[0m \u001b[0;34m\u001b[0m\u001b[0m\n\u001b[0;32m---> 52\u001b[0;31m   \u001b[0mresultado\u001b[0m \u001b[0;34m=\u001b[0m \u001b[0minput\u001b[0m\u001b[0;34m(\u001b[0m\u001b[0;34m\"Você desseja fazer novo cálculo? \\nSim ou Não \\n\"\u001b[0m\u001b[0;34m)\u001b[0m\u001b[0;34m\u001b[0m\u001b[0;34m\u001b[0m\u001b[0m\n\u001b[0m\u001b[1;32m     53\u001b[0m   \u001b[0;32mif\u001b[0m \u001b[0mresultado\u001b[0m \u001b[0;34m==\u001b[0m \u001b[0;34m\"nao\"\u001b[0m \u001b[0;32mor\u001b[0m \u001b[0mresultado\u001b[0m \u001b[0;34m==\u001b[0m \u001b[0;34m\"não\"\u001b[0m\u001b[0;34m:\u001b[0m\u001b[0;34m\u001b[0m\u001b[0;34m\u001b[0m\u001b[0m\n\u001b[1;32m     54\u001b[0m     \u001b[0mcalcular\u001b[0m \u001b[0;34m=\u001b[0m \u001b[0;32mFalse\u001b[0m\u001b[0;34m\u001b[0m\u001b[0;34m\u001b[0m\u001b[0m\n",
            "\u001b[0;32m/usr/local/lib/python3.8/dist-packages/ipykernel/kernelbase.py\u001b[0m in \u001b[0;36mraw_input\u001b[0;34m(self, prompt)\u001b[0m\n\u001b[1;32m    858\u001b[0m                 \u001b[0;34m\"raw_input was called, but this frontend does not support input requests.\"\u001b[0m\u001b[0;34m\u001b[0m\u001b[0;34m\u001b[0m\u001b[0m\n\u001b[1;32m    859\u001b[0m             )\n\u001b[0;32m--> 860\u001b[0;31m         return self._input_request(str(prompt),\n\u001b[0m\u001b[1;32m    861\u001b[0m             \u001b[0mself\u001b[0m\u001b[0;34m.\u001b[0m\u001b[0m_parent_ident\u001b[0m\u001b[0;34m,\u001b[0m\u001b[0;34m\u001b[0m\u001b[0;34m\u001b[0m\u001b[0m\n\u001b[1;32m    862\u001b[0m             \u001b[0mself\u001b[0m\u001b[0;34m.\u001b[0m\u001b[0m_parent_header\u001b[0m\u001b[0;34m,\u001b[0m\u001b[0;34m\u001b[0m\u001b[0;34m\u001b[0m\u001b[0m\n",
            "\u001b[0;32m/usr/local/lib/python3.8/dist-packages/ipykernel/kernelbase.py\u001b[0m in \u001b[0;36m_input_request\u001b[0;34m(self, prompt, ident, parent, password)\u001b[0m\n\u001b[1;32m    902\u001b[0m             \u001b[0;32mexcept\u001b[0m \u001b[0mKeyboardInterrupt\u001b[0m\u001b[0;34m:\u001b[0m\u001b[0;34m\u001b[0m\u001b[0;34m\u001b[0m\u001b[0m\n\u001b[1;32m    903\u001b[0m                 \u001b[0;31m# re-raise KeyboardInterrupt, to truncate traceback\u001b[0m\u001b[0;34m\u001b[0m\u001b[0;34m\u001b[0m\u001b[0;34m\u001b[0m\u001b[0m\n\u001b[0;32m--> 904\u001b[0;31m                 \u001b[0;32mraise\u001b[0m \u001b[0mKeyboardInterrupt\u001b[0m\u001b[0;34m(\u001b[0m\u001b[0;34m\"Interrupted by user\"\u001b[0m\u001b[0;34m)\u001b[0m \u001b[0;32mfrom\u001b[0m \u001b[0;32mNone\u001b[0m\u001b[0;34m\u001b[0m\u001b[0;34m\u001b[0m\u001b[0m\n\u001b[0m\u001b[1;32m    905\u001b[0m             \u001b[0;32mexcept\u001b[0m \u001b[0mException\u001b[0m \u001b[0;32mas\u001b[0m \u001b[0me\u001b[0m\u001b[0;34m:\u001b[0m\u001b[0;34m\u001b[0m\u001b[0;34m\u001b[0m\u001b[0m\n\u001b[1;32m    906\u001b[0m                 \u001b[0mself\u001b[0m\u001b[0;34m.\u001b[0m\u001b[0mlog\u001b[0m\u001b[0;34m.\u001b[0m\u001b[0mwarning\u001b[0m\u001b[0;34m(\u001b[0m\u001b[0;34m\"Invalid Message:\"\u001b[0m\u001b[0;34m,\u001b[0m \u001b[0mexc_info\u001b[0m\u001b[0;34m=\u001b[0m\u001b[0;32mTrue\u001b[0m\u001b[0;34m)\u001b[0m\u001b[0;34m\u001b[0m\u001b[0;34m\u001b[0m\u001b[0m\n",
            "\u001b[0;31mKeyboardInterrupt\u001b[0m: Interrupted by user"
          ]
        }
      ],
      "source": [
        "from math import sqrt\n",
        "calcular = True\n",
        "while calcular:\n",
        "  valor01 = int(input(\"Insira o primeiro Valor: \"))\n",
        "  valor02 = int(input(\"Insira o primeiro Valor: \"))\n",
        "  texto = '''\n",
        "    [1] Soma\n",
        "    [2] Dividir\n",
        "    [3] Multiplicar\n",
        "    [4] Subtrair\n",
        "    [5] Potencia\n",
        "    [6] Raiz quadrada\n",
        "    '''\n",
        "  print(texto)\n",
        "  escolha = int(input(\"Qual operação deseja: \"))\n",
        "  \n",
        "  if int(escolha) < 0:\n",
        "    int(escolha)\n",
        "  else:\n",
        "    str(escolha)\n",
        "\n",
        "\n",
        "  if escolha == 1:\n",
        "    resultado = valor01 + valor02\n",
        "    print(\"O resultado da soma é:\",resultado)\n",
        "\n",
        "  if escolha == 2:\n",
        "    resultado = valor01 / valor02\n",
        "    print(\"O resultado da divisão é:\",resultado)\n",
        "\n",
        "  if escolha == 3:\n",
        "    resultado = valor01 * valor02\n",
        "    print(\"O resultado da multiplicação é:\",resultado)\n",
        "  \n",
        "  if escolha == 4:\n",
        "    resultado = valor01 - valor02\n",
        "    print(\"O resultado da subritação é:\",resultado)\n",
        "  \n",
        "  if escolha ==5:\n",
        "    if escolha > 4:\n",
        "      potencia=1\n",
        "    for count in range(valor02):\n",
        "      potencia *= valor01\n",
        "      count += 1\n",
        "      print(valor01,\"^\",valor02,\"=\",potencia)\n",
        "  \n",
        "  if escolha ==6:\n",
        "    if escolha > 5:\n",
        "      raiz = math.sqrt(valor01)\n",
        "      print(f'\\nA raiz quadrada de {valor01} é {raiz}\\n')\n",
        "  \n",
        "  resultado = input(\"Você desseja fazer novo cálculo? \\nSim ou Não \\n\")\n",
        "  if resultado == \"nao\" or resultado == \"não\":\n",
        "    calcular = False\n",
        "   \n",
        "\n",
        "  \n",
        "  \n"
      ]
    }
  ]
}